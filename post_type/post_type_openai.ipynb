{
 "cells": [
  {
   "cell_type": "code",
   "execution_count": 2,
   "metadata": {},
   "outputs": [],
   "source": [
    "import mysql.connector\n",
    "import openai\n",
    "import time\n",
    "import pandas as pd\n",
    "from tqdm import tqdm\n",
    "\n"
   ]
  },
  {
   "cell_type": "code",
   "execution_count": 3,
   "metadata": {},
   "outputs": [
    {
     "name": "stdout",
     "output_type": "stream",
     "text": [
      "✅ MySQL 連線成功\n"
     ]
    }
   ],
   "source": [
    "# 建立 MySQL 連線\n",
    "def create_connection():\n",
    "    try:\n",
    "        connection = mysql.connector.connect(\n",
    "            host='127.0.0.1',\n",
    "            database='kol_1017',\n",
    "            user='root',\n",
    "            password='123456789',\n",
    "            port=3306\n",
    "        )\n",
    "        if connection.is_connected():\n",
    "            print(\"✅ MySQL 連線成功\")\n",
    "            return connection\n",
    "    except mysql.connector.Error as e:\n",
    "        print(f\"❌ 連線錯誤: {e}\")\n",
    "    return None\n",
    "\n",
    "# 測試 MySQL 連線\n",
    "conn = create_connection()\n",
    "if conn:\n",
    "    conn.close()\n"
   ]
  },
  {
   "cell_type": "code",
   "execution_count": 4,
   "metadata": {},
   "outputs": [
    {
     "name": "stdout",
     "output_type": "stream",
     "text": [
      "✅ MySQL 連線成功\n",
      "✅ 成功讀取 24419 筆貼文（從 id=1 開始）\n"
     ]
    },
    {
     "data": {
      "text/plain": [
       "[{'id': 1,\n",
       "  'article': 'Happy birthday 🎂  聽說生日願望許別人的願望才會實現 那我的願望就交給你們來許吧  謝謝很久以前媽媽在這天帶我來這個世界 媽咪母難日快樂  #birthday #happybirthday'},\n",
       " {'id': 2,\n",
       "  'article': '我的課程真的來囉！ 在12/16號之前報名還有禮物唷！  最先要推出的是《丟球運動》課程 一直以來都很想跟大家介紹這個運動 任何人無論男女老少都能玩 而且最不容易受傷同時又有趣的運動  所有詳細內容以及介紹都在這裡 👉🏻@foreveryoung_sports 以後所有運動相關的消息、 教學的內容都會在這個IG帳號 點選這個IG 主頁加入我的教學官方Line 期待我們課堂上見唷！  #吳承洋#吳承洋chriswu #丟球#運動#丟球運動'},\n",
       " {'id': 3,\n",
       "  'article': '終於來看這個愛了一輩子的偶像 從小學就每一首歌都會唱 連歌詞都不用背 我以前帶周杰倫CD去學校放 就是班上最酷的仔 他的歌陪伴了我多少的青春歲月 現在歌單裡都還是有周杰倫組曲 每一次聽都由衷讚嘆他創作能力 沒想到已經多少年過去了 少年都變大叔了 現在依舊很好聽很感動 終於看到現場表演 人生其中一項願望實現了 @jaychou  原本以為只能在地下道聽了 結果居然有生日禮物 實在是很感謝！ 太開心了❤️'},\n",
       " {'id': 4,\n",
       "  'article': '其實人一天能吸收的資訊有限 過度的被餵太多訊息反而會造成不必要的壓力 我常會把推薦內容關掉 避免自己不小心吸收過多資訊 很多時候停下來看看身邊的景色 放緩腳步才能使思緒更加清晰 最近的天色都好美 大家有注意到嗎？  教課內容資訊快籌備好了 Coming soon ~'},\n",
       " {'id': 5,\n",
       "  'article': '男生穿搭 細節是最重要的 要有高級感的打扮 對我來說 肯定是減法 越簡單越需要有質感的襯托 這時選的配件就尤其重要了 太陽眼鏡一直是我非常喜愛的搭配單品 而手機殼、錶殼 則是我最近發現可以大加分的配件 Golden Concept 的手機殼、錶殼 正好滿足了我喜歡細節質感低調內斂 為一體的需求 當然 想要徹底展現自己潮流品味的人士 也可以在這裡找到閃亮眾人的商品  你也是追求高質感配件的人嗎？ Golden Concept 門市還有很多不同的配件 值得你去逛一逛  #GoldenConcept @goldenart.aw'}]"
      ]
     },
     "execution_count": 4,
     "metadata": {},
     "output_type": "execute_result"
    }
   ],
   "source": [
    "# 讀取 MySQL 資料，從 id=1 開始，按照 ID 遞增排序\n",
    "def fetch_articles():\n",
    "    connection = create_connection()\n",
    "    if connection is None:\n",
    "        return []\n",
    "    \n",
    "    query = \"SELECT id, article FROM kol_post_detail WHERE id >= 1 AND article IS NOT NULL ORDER BY id ASC\"\n",
    "    cursor = connection.cursor(dictionary=True)\n",
    "    cursor.execute(query)\n",
    "    articles = cursor.fetchall()\n",
    "    # **去除換行符號 (\\n)**\n",
    "    for article in articles:\n",
    "        article[\"article\"] = article[\"article\"].replace(\"\\n\", \" \").replace(\"\\r\", \" \")  # 去掉所有換行符號\n",
    "    cursor.close()\n",
    "    connection.close()\n",
    "    \n",
    "    print(f\"✅ 成功讀取 {len(articles)} 筆貼文（從 id=1 開始）\")\n",
    "    return articles  # 回傳包含 id 和 article 的列表\n",
    "\n",
    "# 測試讀取資料（檢查前 5 筆）\n",
    "articles = fetch_articles()\n",
    "articles[:5]  # 顯示前 5 筆\n"
   ]
  },
  {
   "cell_type": "markdown",
   "metadata": {},
   "source": [
    "使用openai進行分析"
   ]
  },
  {
   "cell_type": "code",
   "execution_count": null,
   "metadata": {},
   "outputs": [],
   "source": [
    "# 設定 OpenAI API 金鑰\n",
    "client = openai.Client(api_key=\"\")"
   ]
  },
  {
   "cell_type": "code",
   "execution_count": null,
   "metadata": {},
   "outputs": [],
   "source": []
  },
  {
   "cell_type": "code",
   "execution_count": 6,
   "metadata": {},
   "outputs": [],
   "source": [
    "\n",
    "\n",
    "def classify_post_with_topic(text, max_retries=3):\n",
    "    retries = 0  # 計數重試次數\n",
    "\n",
    "    while retries < max_retries:\n",
    "        try:\n",
    "            # 呼叫 OpenAI API 進行貼文分類與主題分析\n",
    "            response = client.chat.completions.create(\n",
    "                model=\"gpt-4o-mini\",\n",
    "                messages=[\n",
    "                    {\"role\": \"system\", \"content\": \n",
    "                     \"你是一位專業的社群媒體內容分析師，負責判斷社群貼文的業配類型，並分析其主要主題。\\n\"\n",
    "                    \"請根據以下七種類別來分類貼文：\\n\"\n",
    "                    \"0. 非業配貼文（純個人分享，無商業或推廣性質）\\n\"\n",
    "                    \"1. 廣告業配（品牌贊助 / 產品推廣）（感謝品牌 / 強調產品特色）\\n\"\n",
    "                    \"2. 置入式業配（隱性業配）（未明確說明是業配，但有@產品的官方帳號，例如 @gucci，或是加入生活分享）\\n\"\n",
    "                    \"3. 自我宣傳（個人品牌 / 內容導流）（個人品牌(產品)或自媒體內容自行推廣，無外部合作，粉絲觀看 KOL 的影片、Podcast、課程）\\n\"\n",
    "                    \"4. 活動邀請 / 體驗業配 (推廣品牌活動 / 體驗，或是店家、展覽、餐廳...等營業場所邀約）\\n\"\n",
    "                    \"5. 公益/NGO（與商業無關，純粹為社會公益目的）\\n\"\n",
    "                    \"6. 聯盟行銷（這類貼文的目標是讓粉絲使用折扣碼 / 連結購買產品，經常包含導購連結與限時優惠）\\n\\n\"\n",
    "                    \"此外，如果該貼文是業配（1-6 類），請分析其業配主題，也可以透過官方帳號來分辨業配主題\\n\"\n",
    "                    \"請從以下 21 種可能的業配主題中，選擇最接近的主題名稱：\\n\"\n",
    "                    \"1. **3C科技**（手機、筆電、耳機、智慧家電等）\\n\"  \n",
    "                    \"2. **美妝保養**（彩妝、護膚、醫美）\\n\"  \n",
    "                    \"3. **服飾配件**（服裝、鞋包、飾品、潮流穿搭）\\n\"  \n",
    "                    \"4. **運動健身**（健身器材、運動服、健身課程、戶外活動）\\n\"  \n",
    "                    \"5. **旅遊住宿**（飯店、民宿、景點、交通）\\n\"  \n",
    "                    \"6. **美食餐飲**（餐廳、速食、甜點、飲料、食品）\\n\"  \n",
    "                    \"7. **健康保健**（保健食品、營養補充品、醫療健康）\\n\"  \n",
    "                    \"8. **家居生活**（家具、家電、裝潢、收納）\\n\"  \n",
    "                    \"9. **財經理財**（投資、保險、信用卡、理財課程）\\n\"  \n",
    "                    \"10. **教育學習**（線上課程、學習平台、語言學習、職涯發展）\\n\"  \n",
    "                    \"11. **親子育兒**（嬰幼兒用品、家庭活動、育兒分享）\\n\"  \n",
    "                    \"12. **遊戲動漫**（電玩、手遊、桌遊、動漫週邊）\\n\"  \n",
    "                    \"13. **影視娛樂**（電影、戲劇、音樂、演唱會）\\n\"  \n",
    "                    \"14. **寵物用品**（飼料、玩具、寵物照顧）\\n\"  \n",
    "                    \"15. **汽車機車**（新車、改裝、租車、共享交通）\\n\"  \n",
    "                    \"16. **文創設計**（插畫、手作、藝術、設計品牌）\\n\"  \n",
    "                    \"17. **社群工具**（APP 推薦、社群平台、數位行銷）\\n\"  \n",
    "                    \"18. **公益倡議 & 社會議題（社會運動、環保倡議、弱勢關懷） **）\\n\"  \n",
    "                    \"19. **工作職場**（求職平台、職場技巧、企業文化）\\n\"  \n",
    "                    \"20. **奢侈品精品**（珠寶、名牌、收藏品、限量版商品）\\n\"  \n",
    "                    \"21. **攝影 & 影像（相機、攝影器材、剪輯軟體、攝影教學）** \\n\"\n",
    "                    \"請輸出格式：[業配類型],[主題]\\n\"\n",
    "                    \"如果貼文不是業配 (0)，請將主題設為 '無'\"\n",
    "                    \"例如：1,美妝保養 或 0,無\"\n",
    "                    },\n",
    "                    {\"role\": \"user\", \"content\": text}\n",
    "                ]\n",
    "            )\n",
    "\n",
    "            # ✅ 修正解析邏輯，確保正確獲取分類與主題\n",
    "            response_text = response.choices[0].message.content.strip()\n",
    "            \n",
    "\n",
    "            # ✅ 直接使用逗號 `,` 解析\n",
    "            if \",\" in response_text:\n",
    "                category_text, topic_text = response_text.split(\",\", 1)  # 只切割一次，確保主題不被切斷\n",
    "                category_text = category_text.strip()\n",
    "                topic_text = topic_text.strip()\n",
    "\n",
    "                # ✅ 確保 category 是有效的數字\n",
    "                if category_text.isdigit() and 0 <= int(category_text) <= 6:\n",
    "                    category = int(category_text)\n",
    "                else:\n",
    "                    raise ValueError(f\"⚠️ 無效的業配類型: {category_text}\")\n",
    "\n",
    "                return category, topic_text\n",
    "\n",
    "            else:\n",
    "                raise ValueError(\"⚠️ API 回應格式錯誤: \" + str(response_text))\n",
    "\n",
    "        except (openai.APIError, ValueError) as e:\n",
    "            #是哪一篇貼文\n",
    "            print(f\"❌ API 或解析錯誤: {e}\")\n",
    "            return \"未知\", \"未知\"\n",
    "\n",
    "        except Exception as e:\n",
    "            print(f\"❌ 其他錯誤: {e}\")\n",
    "            return \"未知\", \"未知\"\n",
    "\n",
    "    print(\"❌ 連續 3 次 API 失敗，跳過此貼文\")\n",
    "    return \"未知\", \"未知\"\n",
    "\n"
   ]
  },
  {
   "cell_type": "code",
   "execution_count": 7,
   "metadata": {},
   "outputs": [],
   "source": [
    "# 批次處理貼文並更新 MySQL（每 10 篇批次更新）\n",
    "def classify_and_update_test():\n",
    "    articles = fetch_articles()\n",
    "    if not articles:\n",
    "        print(\"❌ 無資料可處理\")\n",
    "        return\n",
    "    \n",
    "    test_articles = articles[20500:]\n",
    "    print(f\"📌 測試貼文數量: {len(test_articles)} 篇\")\n",
    "\n",
    "    connection = create_connection()\n",
    "    cursor = connection.cursor()\n",
    "\n",
    "    results = []\n",
    "    \n",
    "    # **批量分類，減少 API 請求次數**\n",
    "    for i, post in enumerate(tqdm(test_articles, desc=\"📊 分類貼文中\", unit=\"篇\"), start=1):\n",
    "        category, topic = classify_post_with_topic(post[\"article\"])\n",
    "        results.append((category, topic, post[\"id\"]))  # SQL 執行順序: (ad_label, ad_type, id)\n",
    "        time.sleep(0.1)  # ✅ 避免 API 過載\n",
    "        \n",
    "        # **每 10 篇批次更新**\n",
    "        if i % 100 == 0:\n",
    "            try:\n",
    "                sql = \"UPDATE kol_post_detail SET ad_label = %s, ad_type = %s WHERE id = %s\"\n",
    "                cursor.executemany(sql, results)  # ✅ 使用 executemany() 批量更新\n",
    "                connection.commit()\n",
    "                print(f\"✅ 已批量更新 {len(results)} 篇貼文至資料庫\")\n",
    "                results.clear()  # 清空暫存結果\n",
    "            except Exception as e:\n",
    "                print(f\"❌ 批量更新失敗，錯誤: {e}\")\n",
    "\n",
    "    # **確保最後一批（不足 10 篇）也能更新**\n",
    "    if results:\n",
    "        try:\n",
    "            sql = \"UPDATE kol_post_detail SET ad_label = %s, ad_type = %s WHERE id = %s\"\n",
    "            cursor.executemany(sql, results)\n",
    "            connection.commit()\n",
    "            print(f\"✅ 最後一批 {len(results)} 篇貼文更新至資料庫\")\n",
    "        except Exception as e:\n",
    "            print(f\"❌ 最後一批更新失敗，錯誤: {e}\")\n",
    "\n",
    "    cursor.close()\n",
    "    connection.close()\n",
    "    print(\"✅ 測試完成，所有貼文已更新至資料庫\")\n",
    "\n",
    "\n",
    "\n"
   ]
  },
  {
   "cell_type": "code",
   "execution_count": 8,
   "metadata": {},
   "outputs": [],
   "source": [
    "# # 執行測試\n",
    "# classify_and_update_test()"
   ]
  },
  {
   "cell_type": "code",
   "execution_count": 9,
   "metadata": {},
   "outputs": [
    {
     "name": "stdout",
     "output_type": "stream",
     "text": [
      "✅ MySQL 連線成功\n",
      "✅ 成功讀取 24419 筆貼文（從 id=1 開始）\n",
      "📌 測試貼文數量: 3919 篇\n",
      "✅ MySQL 連線成功\n"
     ]
    },
    {
     "name": "stderr",
     "output_type": "stream",
     "text": [
      "📊 分類貼文中:   3%|▎         | 100/3919 [01:09<2:19:04,  2.19s/篇]"
     ]
    },
    {
     "name": "stdout",
     "output_type": "stream",
     "text": [
      "✅ 已批量更新 100 篇貼文至資料庫\n"
     ]
    },
    {
     "name": "stderr",
     "output_type": "stream",
     "text": [
      "📊 分類貼文中:   5%|▌         | 200/3919 [02:16<2:06:17,  2.04s/篇]"
     ]
    },
    {
     "name": "stdout",
     "output_type": "stream",
     "text": [
      "✅ 已批量更新 100 篇貼文至資料庫\n"
     ]
    },
    {
     "name": "stderr",
     "output_type": "stream",
     "text": [
      "📊 分類貼文中:   8%|▊         | 300/3919 [03:23<2:14:17,  2.23s/篇]"
     ]
    },
    {
     "name": "stdout",
     "output_type": "stream",
     "text": [
      "✅ 已批量更新 100 篇貼文至資料庫\n"
     ]
    },
    {
     "name": "stderr",
     "output_type": "stream",
     "text": [
      "📊 分類貼文中:  10%|█         | 400/3919 [04:35<2:12:37,  2.26s/篇]"
     ]
    },
    {
     "name": "stdout",
     "output_type": "stream",
     "text": [
      "✅ 已批量更新 100 篇貼文至資料庫\n"
     ]
    },
    {
     "name": "stderr",
     "output_type": "stream",
     "text": [
      "📊 分類貼文中:  13%|█▎        | 500/3919 [06:02<2:08:59,  2.26s/篇]"
     ]
    },
    {
     "name": "stdout",
     "output_type": "stream",
     "text": [
      "✅ 已批量更新 100 篇貼文至資料庫\n"
     ]
    },
    {
     "name": "stderr",
     "output_type": "stream",
     "text": [
      "📊 分類貼文中:  15%|█▌        | 600/3919 [07:13<2:19:54,  2.53s/篇]"
     ]
    },
    {
     "name": "stdout",
     "output_type": "stream",
     "text": [
      "✅ 已批量更新 100 篇貼文至資料庫\n"
     ]
    },
    {
     "name": "stderr",
     "output_type": "stream",
     "text": [
      "📊 分類貼文中:  18%|█▊        | 700/3919 [08:18<1:50:52,  2.07s/篇]"
     ]
    },
    {
     "name": "stdout",
     "output_type": "stream",
     "text": [
      "✅ 已批量更新 100 篇貼文至資料庫\n"
     ]
    },
    {
     "name": "stderr",
     "output_type": "stream",
     "text": [
      "📊 分類貼文中:  20%|██        | 800/3919 [09:26<1:48:15,  2.08s/篇]"
     ]
    },
    {
     "name": "stdout",
     "output_type": "stream",
     "text": [
      "✅ 已批量更新 100 篇貼文至資料庫\n"
     ]
    },
    {
     "name": "stderr",
     "output_type": "stream",
     "text": [
      "📊 分類貼文中:  23%|██▎       | 900/3919 [10:48<2:00:24,  2.39s/篇]"
     ]
    },
    {
     "name": "stdout",
     "output_type": "stream",
     "text": [
      "✅ 已批量更新 100 篇貼文至資料庫\n"
     ]
    },
    {
     "name": "stderr",
     "output_type": "stream",
     "text": [
      "📊 分類貼文中:  26%|██▌       | 1000/3919 [12:02<1:44:36,  2.15s/篇]"
     ]
    },
    {
     "name": "stdout",
     "output_type": "stream",
     "text": [
      "✅ 已批量更新 100 篇貼文至資料庫\n"
     ]
    },
    {
     "name": "stderr",
     "output_type": "stream",
     "text": [
      "📊 分類貼文中:  28%|██▊       | 1100/3919 [13:19<1:48:55,  2.32s/篇]"
     ]
    },
    {
     "name": "stdout",
     "output_type": "stream",
     "text": [
      "✅ 已批量更新 100 篇貼文至資料庫\n"
     ]
    },
    {
     "name": "stderr",
     "output_type": "stream",
     "text": [
      "📊 分類貼文中:  31%|███       | 1200/3919 [14:27<1:39:17,  2.19s/篇]"
     ]
    },
    {
     "name": "stdout",
     "output_type": "stream",
     "text": [
      "✅ 已批量更新 100 篇貼文至資料庫\n"
     ]
    },
    {
     "name": "stderr",
     "output_type": "stream",
     "text": [
      "📊 分類貼文中:  33%|███▎      | 1300/3919 [15:36<1:37:54,  2.24s/篇]"
     ]
    },
    {
     "name": "stdout",
     "output_type": "stream",
     "text": [
      "✅ 已批量更新 100 篇貼文至資料庫\n"
     ]
    },
    {
     "name": "stderr",
     "output_type": "stream",
     "text": [
      "📊 分類貼文中:  36%|███▌      | 1400/3919 [16:49<1:50:57,  2.64s/篇]"
     ]
    },
    {
     "name": "stdout",
     "output_type": "stream",
     "text": [
      "✅ 已批量更新 100 篇貼文至資料庫\n"
     ]
    },
    {
     "name": "stderr",
     "output_type": "stream",
     "text": [
      "📊 分類貼文中:  38%|███▊      | 1500/3919 [18:10<2:21:00,  3.50s/篇]"
     ]
    },
    {
     "name": "stdout",
     "output_type": "stream",
     "text": [
      "✅ 已批量更新 100 篇貼文至資料庫\n"
     ]
    },
    {
     "name": "stderr",
     "output_type": "stream",
     "text": [
      "📊 分類貼文中:  39%|███▉      | 1519/3919 [18:27<54:39,  1.37s/篇]  "
     ]
    },
    {
     "name": "stdout",
     "output_type": "stream",
     "text": [
      "❌ API 或解析錯誤: ⚠️ API 回應格式錯誤: 如果有任何問題或需求，隨時告訴我，我會樂意幫助你！\n"
     ]
    },
    {
     "name": "stderr",
     "output_type": "stream",
     "text": [
      "📊 分類貼文中:  41%|████      | 1600/3919 [19:36<3:45:21,  5.83s/篇]"
     ]
    },
    {
     "name": "stdout",
     "output_type": "stream",
     "text": [
      "✅ 已批量更新 100 篇貼文至資料庫\n"
     ]
    },
    {
     "name": "stderr",
     "output_type": "stream",
     "text": [
      "📊 分類貼文中:  43%|████▎     | 1700/3919 [20:44<1:40:43,  2.72s/篇]"
     ]
    },
    {
     "name": "stdout",
     "output_type": "stream",
     "text": [
      "✅ 已批量更新 100 篇貼文至資料庫\n"
     ]
    },
    {
     "name": "stderr",
     "output_type": "stream",
     "text": [
      "📊 分類貼文中:  46%|████▌     | 1800/3919 [21:53<1:31:17,  2.59s/篇]"
     ]
    },
    {
     "name": "stdout",
     "output_type": "stream",
     "text": [
      "✅ 已批量更新 100 篇貼文至資料庫\n"
     ]
    },
    {
     "name": "stderr",
     "output_type": "stream",
     "text": [
      "📊 分類貼文中:  48%|████▊     | 1900/3919 [23:03<1:30:29,  2.69s/篇]"
     ]
    },
    {
     "name": "stdout",
     "output_type": "stream",
     "text": [
      "✅ 已批量更新 100 篇貼文至資料庫\n"
     ]
    },
    {
     "name": "stderr",
     "output_type": "stream",
     "text": [
      "📊 分類貼文中:  51%|█████     | 2000/3919 [24:17<1:37:03,  3.03s/篇]"
     ]
    },
    {
     "name": "stdout",
     "output_type": "stream",
     "text": [
      "✅ 已批量更新 100 篇貼文至資料庫\n"
     ]
    },
    {
     "name": "stderr",
     "output_type": "stream",
     "text": [
      "📊 分類貼文中:  53%|█████▎    | 2087/3919 [25:10<20:37,  1.48篇/s]  "
     ]
    },
    {
     "name": "stdout",
     "output_type": "stream",
     "text": [
      "❌ API 或解析錯誤: ⚠️ API 回應格式錯誤: 抱歉，我無法根據您提供的「選1還2❓」進行分類和分析，請您提供具體的貼文內容或詳細資訊，以便我能為您進行業配類型的判斷和主題分析。\n"
     ]
    },
    {
     "name": "stderr",
     "output_type": "stream",
     "text": [
      "📊 分類貼文中:  54%|█████▎    | 2100/3919 [25:30<2:18:56,  4.58s/篇]"
     ]
    },
    {
     "name": "stdout",
     "output_type": "stream",
     "text": [
      "✅ 已批量更新 100 篇貼文至資料庫\n"
     ]
    },
    {
     "name": "stderr",
     "output_type": "stream",
     "text": [
      "📊 分類貼文中:  56%|█████▌    | 2200/3919 [26:55<3:25:08,  7.16s/篇]"
     ]
    },
    {
     "name": "stdout",
     "output_type": "stream",
     "text": [
      "✅ 已批量更新 100 篇貼文至資料庫\n"
     ]
    },
    {
     "name": "stderr",
     "output_type": "stream",
     "text": [
      "📊 分類貼文中:  57%|█████▋    | 2219/3919 [27:06<16:18,  1.74篇/s]  "
     ]
    },
    {
     "name": "stdout",
     "output_type": "stream",
     "text": [
      "❌ API 或解析錯誤: ⚠️ API 回應格式錯誤: Hello! How can I assist you today?\n"
     ]
    },
    {
     "name": "stderr",
     "output_type": "stream",
     "text": [
      "📊 分類貼文中:  57%|█████▋    | 2223/3919 [27:09<18:47,  1.50篇/s]"
     ]
    },
    {
     "name": "stdout",
     "output_type": "stream",
     "text": [
      "❌ API 或解析錯誤: ⚠️ API 回應格式錯誤: 看起來你的消息是空的，請提供需要分析的社群貼文內容，這樣我才能正確判斷業配類型並分析主題！\n"
     ]
    },
    {
     "name": "stderr",
     "output_type": "stream",
     "text": [
      "📊 分類貼文中:  59%|█████▊    | 2300/3919 [28:02<1:23:06,  3.08s/篇]"
     ]
    },
    {
     "name": "stdout",
     "output_type": "stream",
     "text": [
      "✅ 已批量更新 100 篇貼文至資料庫\n"
     ]
    },
    {
     "name": "stderr",
     "output_type": "stream",
     "text": [
      "📊 分類貼文中:  61%|██████    | 2400/3919 [29:25<2:52:46,  6.82s/篇]"
     ]
    },
    {
     "name": "stdout",
     "output_type": "stream",
     "text": [
      "✅ 已批量更新 100 篇貼文至資料庫\n"
     ]
    },
    {
     "name": "stderr",
     "output_type": "stream",
     "text": [
      "📊 分類貼文中:  64%|██████▍   | 2500/3919 [30:35<1:09:24,  2.93s/篇]"
     ]
    },
    {
     "name": "stdout",
     "output_type": "stream",
     "text": [
      "✅ 已批量更新 100 篇貼文至資料庫\n"
     ]
    },
    {
     "name": "stderr",
     "output_type": "stream",
     "text": [
      "📊 分類貼文中:  66%|██████▋   | 2600/3919 [31:46<1:03:36,  2.89s/篇]"
     ]
    },
    {
     "name": "stdout",
     "output_type": "stream",
     "text": [
      "✅ 已批量更新 100 篇貼文至資料庫\n"
     ]
    },
    {
     "name": "stderr",
     "output_type": "stream",
     "text": [
      "📊 分類貼文中:  69%|██████▉   | 2700/3919 [33:02<59:52,  2.95s/篇]  "
     ]
    },
    {
     "name": "stdout",
     "output_type": "stream",
     "text": [
      "✅ 已批量更新 100 篇貼文至資料庫\n"
     ]
    },
    {
     "name": "stderr",
     "output_type": "stream",
     "text": [
      "📊 分類貼文中:  71%|███████▏  | 2800/3919 [34:27<1:50:06,  5.90s/篇]"
     ]
    },
    {
     "name": "stdout",
     "output_type": "stream",
     "text": [
      "✅ 已批量更新 100 篇貼文至資料庫\n"
     ]
    },
    {
     "name": "stderr",
     "output_type": "stream",
     "text": [
      "📊 分類貼文中:  74%|███████▍  | 2900/3919 [35:42<57:00,  3.36s/篇]  "
     ]
    },
    {
     "name": "stdout",
     "output_type": "stream",
     "text": [
      "✅ 已批量更新 100 篇貼文至資料庫\n"
     ]
    },
    {
     "name": "stderr",
     "output_type": "stream",
     "text": [
      "📊 分類貼文中:  77%|███████▋  | 3000/3919 [36:53<54:51,  3.58s/篇]"
     ]
    },
    {
     "name": "stdout",
     "output_type": "stream",
     "text": [
      "✅ 已批量更新 100 篇貼文至資料庫\n"
     ]
    },
    {
     "name": "stderr",
     "output_type": "stream",
     "text": [
      "📊 分類貼文中:  77%|███████▋  | 3005/3919 [36:57<18:50,  1.24s/篇]"
     ]
    },
    {
     "name": "stdout",
     "output_type": "stream",
     "text": [
      "❌ API 或解析錯誤: ⚠️ API 回應格式錯誤: 請提供需要分析的貼文內容或描述，以便我為你進行業配類型分類和主題分析。\n"
     ]
    },
    {
     "name": "stderr",
     "output_type": "stream",
     "text": [
      "📊 分類貼文中:  79%|███████▉  | 3100/3919 [38:03<41:04,  3.01s/篇]"
     ]
    },
    {
     "name": "stdout",
     "output_type": "stream",
     "text": [
      "✅ 已批量更新 100 篇貼文至資料庫\n"
     ]
    },
    {
     "name": "stderr",
     "output_type": "stream",
     "text": [
      "📊 分類貼文中:  82%|████████▏ | 3200/3919 [39:27<36:00,  3.01s/篇]"
     ]
    },
    {
     "name": "stdout",
     "output_type": "stream",
     "text": [
      "✅ 已批量更新 100 篇貼文至資料庫\n"
     ]
    },
    {
     "name": "stderr",
     "output_type": "stream",
     "text": [
      "📊 分類貼文中:  84%|████████▍ | 3300/3919 [40:41<30:09,  2.92s/篇]"
     ]
    },
    {
     "name": "stdout",
     "output_type": "stream",
     "text": [
      "✅ 已批量更新 100 篇貼文至資料庫\n"
     ]
    },
    {
     "name": "stderr",
     "output_type": "stream",
     "text": [
      "📊 分類貼文中:  87%|████████▋ | 3400/3919 [41:53<26:14,  3.03s/篇]"
     ]
    },
    {
     "name": "stdout",
     "output_type": "stream",
     "text": [
      "✅ 已批量更新 100 篇貼文至資料庫\n"
     ]
    },
    {
     "name": "stderr",
     "output_type": "stream",
     "text": [
      "📊 分類貼文中:  89%|████████▉ | 3500/3919 [43:34<17:21,  2.49s/篇]  "
     ]
    },
    {
     "name": "stdout",
     "output_type": "stream",
     "text": [
      "✅ 已批量更新 100 篇貼文至資料庫\n"
     ]
    },
    {
     "name": "stderr",
     "output_type": "stream",
     "text": [
      "📊 分類貼文中:  92%|█████████▏| 3600/3919 [44:42<10:56,  2.06s/篇]"
     ]
    },
    {
     "name": "stdout",
     "output_type": "stream",
     "text": [
      "✅ 已批量更新 100 篇貼文至資料庫\n"
     ]
    },
    {
     "name": "stderr",
     "output_type": "stream",
     "text": [
      "📊 分類貼文中:  94%|█████████▍| 3700/3919 [45:53<08:21,  2.29s/篇]"
     ]
    },
    {
     "name": "stdout",
     "output_type": "stream",
     "text": [
      "✅ 已批量更新 100 篇貼文至資料庫\n"
     ]
    },
    {
     "name": "stderr",
     "output_type": "stream",
     "text": [
      "📊 分類貼文中:  97%|█████████▋| 3800/3919 [47:02<04:18,  2.17s/篇]"
     ]
    },
    {
     "name": "stdout",
     "output_type": "stream",
     "text": [
      "✅ 已批量更新 100 篇貼文至資料庫\n"
     ]
    },
    {
     "name": "stderr",
     "output_type": "stream",
     "text": [
      "📊 分類貼文中: 100%|█████████▉| 3900/3919 [48:13<00:42,  2.26s/篇]"
     ]
    },
    {
     "name": "stdout",
     "output_type": "stream",
     "text": [
      "✅ 已批量更新 100 篇貼文至資料庫\n"
     ]
    },
    {
     "name": "stderr",
     "output_type": "stream",
     "text": [
      "📊 分類貼文中: 100%|█████████▉| 3912/3919 [48:21<00:05,  1.35篇/s]"
     ]
    },
    {
     "name": "stdout",
     "output_type": "stream",
     "text": [
      "❌ API 或解析錯誤: ⚠️ 無效的業配類型: 這則貼文提到了一個品牌的新品上市（洗髮精），並且采取了一種幽默的方式來引起注意，因此被歸類為置入式業配。貼文雖然不是明確的宣傳，但使用了產品名稱和相關的標籤。\n",
      "\n",
      "所以，分類為：[2\n"
     ]
    },
    {
     "name": "stderr",
     "output_type": "stream",
     "text": [
      "📊 分類貼文中: 100%|██████████| 3919/3919 [48:25<00:00,  1.35篇/s]\n"
     ]
    },
    {
     "name": "stdout",
     "output_type": "stream",
     "text": [
      "✅ 最後一批 19 篇貼文更新至資料庫\n",
      "✅ 測試完成，所有貼文已更新至資料庫\n"
     ]
    }
   ],
   "source": [
    "\n",
    "classify_and_update_test()"
   ]
  }
 ],
 "metadata": {
  "kernelspec": {
   "display_name": "Python 3",
   "language": "python",
   "name": "python3"
  },
  "language_info": {
   "codemirror_mode": {
    "name": "ipython",
    "version": 3
   },
   "file_extension": ".py",
   "mimetype": "text/x-python",
   "name": "python",
   "nbconvert_exporter": "python",
   "pygments_lexer": "ipython3",
   "version": "3.11.5"
  }
 },
 "nbformat": 4,
 "nbformat_minor": 2
}
